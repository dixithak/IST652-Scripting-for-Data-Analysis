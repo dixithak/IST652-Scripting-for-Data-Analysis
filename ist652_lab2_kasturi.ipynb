{
  "cells": [
    {
      "cell_type": "markdown",
      "metadata": {
        "id": "uF1Y8PbmoIaa"
      },
      "source": [
        "# IST 652 Lab #2\n",
        "### Instructions\n",
        "- Complete all 5 questions in this assignment.\n",
        "- You may work with others, <b> but the work you submit must be your own </b>. You can differentiate your work by adding comments or changing the values you use to test your code. However, submitting some else's work as your own is an academic integrity violation and will be raised to academic affairs.\n",
        "- It is always better to attempt a problem as partial credit may be granted.\n",
        "\n",
        "\n",
        "### Submission Guide:\n",
        "- Submit your answers on BlackBoard by Monday 2022-02-14 at 5pm.\n",
        "- The file must be either a .py or .ipynb file type.\n",
        "- The name of the file should be <i> ist652_lab2_lastname.py (.ipynb) </i> .\n",
        "\n",
        "\n",
        "### Grading [ 5 total points ]\n",
        "For Each Question, the following credit will be awarded:\n",
        "- 0.75 for printing the correct answer to the console.\n",
        "- 0.15 for approaching the problem efficiently.\n",
        "- 0.05 for properly documenting and commenting your code."
      ]
    },
    {
      "cell_type": "markdown",
      "metadata": {
        "id": "ihmWXuLToIad"
      },
      "source": [
        "---\n",
        "### Questions"
      ]
    },
    {
      "cell_type": "markdown",
      "metadata": {
        "id": "uaLd_FE8oIae"
      },
      "source": [
        "#### ( 1 ) Given a list of non-empty tuples, write a sort expression that will sort in increasing order by the last element in each tuple.\n",
        "for eample: \n",
        "- [(1, 7), (1, 3), (3, 4, 5), (2, 2)]\n",
        "\n",
        "yields\n",
        "- [(2, 2), (1, 3), (3, 4, 5), (1, 7)]\n",
        "\n",
        "\n",
        "<b> 2 Examples </b>\n",
        "\n",
        "Define at least two lists with tuples of different lengths and show the same sort expression executing against both lists.\n",
        "\n",
        "##### [0.5 point]"
      ]
    },
    {
      "cell_type": "code",
      "execution_count": 4,
      "metadata": {
        "id": "oVoseCt5oIaf",
        "colab": {
          "base_uri": "https://localhost:8080/"
        },
        "outputId": "4e3c943b-e931-4825-b71f-b238dd73ec04"
      },
      "outputs": [
        {
          "output_type": "stream",
          "name": "stdout",
          "text": [
            "Using lambda function :  [(2, 0), (7, 1), (1, 1), (4, 5, 6, 3, 2), (1, 1, 2, 7), (6, 8, 9)]\n"
          ]
        }
      ],
      "source": [
        "# List #1\n",
        "# Enter your code here, printing relevant answers to console:\n",
        "L = [(7,1),(2, 0),(4,5,6,3,2),(1,1),(6,8,9),(1,1,2,7)]\n",
        "\n",
        "L.sort(key = lambda x:x[len(x)-1])\n",
        "print(\"Using lambda function : \" ,L)\n",
        "\n",
        "\n"
      ]
    },
    {
      "cell_type": "code",
      "execution_count": 5,
      "metadata": {
        "id": "R75dYtF_oIag",
        "colab": {
          "base_uri": "https://localhost:8080/"
        },
        "outputId": "94295a6b-6d9e-4a8d-f31c-431db4c85ea8"
      },
      "outputs": [
        {
          "output_type": "stream",
          "name": "stdout",
          "text": [
            "Using lambda function :  [(0, 0.0), (1, 1.0), (1, 1), (1, 2.5), (1, 2, 3, 5.5), (10, 50), (100, 11, 120)]\n"
          ]
        }
      ],
      "source": [
        "# List #2\n",
        "# Enter your code here, printing relevant answers to console:\n",
        "L = [(10, 50), (1,2.5),(100,11,120),(1,2,3,5.5),(0,0.0),(1,1.0),(1,1)]\n",
        "\n",
        "L.sort(key = lambda x:x[len(x)-1])\n",
        "print(\"Using lambda function : \" ,L)\n",
        "\n"
      ]
    },
    {
      "cell_type": "markdown",
      "metadata": {
        "id": "hSHoo8OvoIah"
      },
      "source": [
        "---\n",
        "#### ( 2a ) Given the grades of 21 students in a class, write a program which will print to console:\n",
        "- The maximum grade <b>and</b> the student(s) who recieved it\n",
        "- The minimum grade <b>and</b> the student(s) who recieved it\n",
        "- The average (mean) grade for the entire class\n",
        "\n",
        "\n",
        "##### [0.5 point]"
      ]
    },
    {
      "cell_type": "code",
      "execution_count": 6,
      "metadata": {
        "id": "3XDanR9OoIai",
        "colab": {
          "base_uri": "https://localhost:8080/"
        },
        "outputId": "2ec93313-e64d-41f1-d55a-c8d2c0b291bf"
      },
      "outputs": [
        {
          "output_type": "stream",
          "name": "stdout",
          "text": [
            "Max score students: \n",
            "Student Name - Zhang , Grade = 100\n",
            "Student Name - Watson , Grade = 100\n",
            "Min score students: \n",
            "Student Name - Li , Grade =  68\n",
            "Average score =  87.85714285714286\n"
          ]
        }
      ],
      "source": [
        "# Enter your code here, printing relevant answers to console:\n",
        "\n",
        "grades = [['Gary', 99],\n",
        "          ['Albert', 98],\n",
        "          ['Tina', 78],\n",
        "          ['Ash', 92],\n",
        "          ['Harsh', 93],\n",
        "          ['Dmitri', 72],\n",
        "          ['Geeta', 70],\n",
        "          ['Tao', 75],\n",
        "          ['Zhang', 100],\n",
        "          ['Miguel', 99],\n",
        "          ['Ashley', 80],\n",
        "          ['Marta', 92],\n",
        "          ['Jackson', 90],\n",
        "          ['Freddy', 85],\n",
        "          ['Li', 68],\n",
        "          ['Albert', 75],\n",
        "          ['Watson', 100],\n",
        "          ['Juan', 99],\n",
        "          ['Irina', 92],\n",
        "          ['Nikhil', 91],\n",
        "          ['Fred', 97],]\n",
        "\n",
        "score = [ scores for (name, scores) in grades]\n",
        "max_score = max(score)\n",
        "min_score = min(score)\n",
        "avg_score = sum(score)/len(score)\n",
        "max_students = []\n",
        "min_students = []\n",
        "\n",
        "for i,grade in enumerate(score):\n",
        "  if grade == max_score:\n",
        "    max_students.append(grades[i])\n",
        "\n",
        "  elif grade == min_score:\n",
        "    min_students.append(grades[i])\n",
        "\n",
        "print(\"Max score students: \")\n",
        "for i in range(len(max_students)):\n",
        "  print(\"Student Name -\", max_students[i][0], \", Grade =\",max_students[i][1])\n",
        "\n",
        "print(\"Min score students: \")\n",
        "for i in range(len(min_students)):\n",
        "  print(\"Student Name -\", min_students[i][0], \", Grade = \",min_students[i][1])\n",
        "\n",
        "print(\"Average score = \",avg_score)\n"
      ]
    },
    {
      "cell_type": "markdown",
      "metadata": {
        "id": "MF6IEq5QoIai"
      },
      "source": [
        " ----"
      ]
    },
    {
      "cell_type": "markdown",
      "metadata": {
        "id": "25DscBHkoIaj"
      },
      "source": [
        "#### ( 2b )  Given the same grades as the previous question 2a, write a program which will print to console:\n",
        "- The median grade and the student who recieved it\n",
        "- For a refresher on what the Median is, please see here: https://www.mathsisfun.com/median.html\n",
        "\n",
        "<b>NOTE:</b> Since this list has an odd number of entries, there will be 1 student who falls directly in the middle of the sorted list. There is no need to solve for a tie-break (i.e. averaging among two middle values).\n",
        "\n",
        "\n",
        "##### [0.5 point]"
      ]
    },
    {
      "cell_type": "code",
      "execution_count": 7,
      "metadata": {
        "id": "NmhueEhIoIak",
        "colab": {
          "base_uri": "https://localhost:8080/"
        },
        "outputId": "86396e99-77fb-4b78-cb36-10c925a90cbd"
      },
      "outputs": [
        {
          "output_type": "stream",
          "name": "stdout",
          "text": [
            "Median score students: \n",
            "Student Name - Ash , Grade = 92\n",
            "Student Name - Marta , Grade = 92\n",
            "Student Name - Irina , Grade = 92\n",
            "\n",
            "\n",
            "Median score students by manual calculation: \n",
            "Student Name - Ash , Grade = 92\n",
            "Student Name - Marta , Grade = 92\n",
            "Student Name - Irina , Grade = 92\n"
          ]
        }
      ],
      "source": [
        "# Enter your code here, printing relevant answers to console:\n",
        "\n",
        "grades = [['Gary', 99],\n",
        "          ['Albert', 98],\n",
        "          ['Tina', 78],\n",
        "          ['Ash', 92],\n",
        "          ['Harsh', 93],\n",
        "          ['Dmitri', 72],\n",
        "          ['Geeta', 70],\n",
        "          ['Tao', 75],\n",
        "          ['Zhang', 100],\n",
        "          ['Miguel', 99],\n",
        "          ['Ashley', 80],\n",
        "          ['Marta', 92],\n",
        "          ['Jackson', 90],\n",
        "          ['Freddy', 85],\n",
        "          ['Li', 68],\n",
        "          ['Albert', 75],\n",
        "          ['Watson', 100],\n",
        "          ['Juan', 99],\n",
        "          ['Irina', 92],\n",
        "          ['Nikhil', 91],\n",
        "          ['Fred', 97],]\n",
        "\n",
        "\n",
        "score = [ score for (name, score) in grades]\n",
        "median_students = []\n",
        "\n",
        "\n",
        "#Using statistics package :\n",
        "import statistics as s\n",
        "median_score = s.median(score)\n",
        "\n",
        "for i,grade in enumerate(score):\n",
        "  if grade == median_score:\n",
        "    median_students.append(grades[i])\n",
        "\n",
        "print(\"Median score students: \")\n",
        "for i in range(len(median_students)):\n",
        "  print(\"Student Name -\", median_students[i][0], \", Grade =\",median_students[i][1])\n",
        "print(\"\\n\")\n",
        "\n",
        "# Calculating median manually.\n",
        "score.sort()\n",
        "median_score = 0\n",
        "\n",
        "if len(score)%2 != 0 :\n",
        "  median_score = score[int((len(score)+1)/2)]\n",
        "\n",
        "print(\"Median score students by manual calculation: \")\n",
        "for i in range(len(grades)):\n",
        "  if grades[i][1] == median_score:\n",
        "    print(\"Student Name -\", grades[i][0], \", Grade =\",grades[i][1])"
      ]
    },
    {
      "cell_type": "markdown",
      "metadata": {
        "id": "tIbE4REKoIal"
      },
      "source": [
        "---\n",
        "\n",
        "#### ( 3 ) Given the following dictionary of people and their ages, print the dictionary items as a <u>sorted list</u> of strings in exactly the following format:\n",
        "- <i>value-key, for instance:</i>\n",
        "    - '30-Harry'\n",
        "    - '22-Berry'\n",
        "    - ...\n",
        "    - '22-Nikhil'\n",
        "\n",
        "\n",
        "##### [1 point]"
      ]
    },
    {
      "cell_type": "code",
      "execution_count": 8,
      "metadata": {
        "id": "BnbOESqBoIam",
        "colab": {
          "base_uri": "https://localhost:8080/"
        },
        "outputId": "28f04883-52e1-4794-db89-ed6fdc9df3d0"
      },
      "outputs": [
        {
          "output_type": "stream",
          "name": "stdout",
          "text": [
            "30-Harry\n",
            "22-Berry\n",
            "25-Tina\n",
            "32-Akriti\n",
            "61-Harsh\n",
            "47-Ben\n",
            "55-Geeta\n",
            "39-Tao\n",
            "27-Kelly\n",
            "29-Miguel\n",
            "29-Ashley\n",
            "33-Marta\n",
            "19-Jackson\n",
            "18-Freddy\n",
            "44-Lilly\n",
            "23-Albert\n",
            "19-Xi\n",
            "41-Juan\n",
            "32-Belle\n",
            "22-Nikhil\n"
          ]
        }
      ],
      "source": [
        "# Enter your code here, printing relevant answers to console:\n",
        "\n",
        "age_dict = {'Harry': 30,\n",
        "          'Berry': 22,\n",
        "          'Tina': 25,\n",
        "          'Akriti': 32,\n",
        "          'Harsh': 61,\n",
        "          'Ben': 47,\n",
        "          'Geeta': 55,\n",
        "          'Tao': 39,\n",
        "          'Kelly': 27,\n",
        "          'Miguel': 29,\n",
        "          'Ashley': 29,\n",
        "          'Marta': 33,\n",
        "          'Jackson': 19,\n",
        "          'Freddy': 18,\n",
        "          'Lilly': 44,\n",
        "          'Albert': 23,\n",
        "          'Xi': 19,\n",
        "          'Juan': 41,\n",
        "          'Belle': 32,\n",
        "          'Nikhil': 22,}\n",
        "\n",
        "for k,v in age_dict.items():\n",
        "  print(v,\"-\",k, sep=\"\")\n"
      ]
    },
    {
      "cell_type": "markdown",
      "metadata": {
        "id": "0B-BDu0moIan"
      },
      "source": [
        "#### ( 4a ) Using a loop (while or for) - write a program which generates the first 20 even squares.\n",
        "\n",
        "- An even number is evenly divisible by 2 (i.e. with remainder 0)\n",
        "- A square is a value which is yielded when it's square-root is multiplied by itself:\n",
        "    - 4 is a square since it's equal to 2*2\n",
        "    - 9 is a square since it's equal to 3*3\n",
        "        - However, 9 is not even and should not be printed.\n",
        "- Zero (0) <u>should not</u> be considered an even square\n",
        "       \n",
        "\n",
        "##### [0.5 point]"
      ]
    },
    {
      "cell_type": "code",
      "execution_count": 9,
      "metadata": {
        "id": "lbduwDP5oIan",
        "colab": {
          "base_uri": "https://localhost:8080/"
        },
        "outputId": "63ec309c-03fb-479d-f85d-30ea026975ec"
      },
      "outputs": [
        {
          "output_type": "stream",
          "name": "stdout",
          "text": [
            "Using for loop\n",
            "4 16 36 64 100 144 196 256 324 400 484 576 676 784 900 1024 1156 1296 1444 1600  \n",
            "\n",
            "Using list comprehension\n",
            "[4, 16, 36, 64, 100, 144, 196, 256, 324, 400, 484, 576, 676, 784, 900, 1024, 1156, 1296, 1444, 1600]\n"
          ]
        }
      ],
      "source": [
        "# Enter your code here, printing relevant answers to console:\n",
        "\n",
        "# Using loop\n",
        "n = 20\n",
        "print(\"Using for loop\")\n",
        "for i in range(0, n*2+1,2):\n",
        "  if i!=0:\n",
        "    print(i*i, end = \" \")\n",
        "    if  i == n*2:\n",
        "      print(\" \\n\")\n",
        "\n",
        "# list comprehension:\n",
        "even_squares = [ i*i for i in range(41) if i%2 == 0 and i!=0]\n",
        "print(\"Using list comprehension\")\n",
        "print(even_squares)"
      ]
    },
    {
      "cell_type": "markdown",
      "source": [
        "#### ( 4b ) Using a list comprehension - write a program which generates the first 10 odd squares.\n",
        "\n",
        "- An odd number is not evenly divisible by 2 (i.e. with remainder 0):\n",
        "    - 4 is a square since it's equal to 2*2\n",
        "    - 9 is a square since it's equal to 3*3\n",
        "        - However, 4 is not odd and should not be printed.\n",
        "       \n",
        "\n",
        "##### [0.5 point]"
      ],
      "metadata": {
        "id": "7DU4FVbDqPy2"
      }
    },
    {
      "cell_type": "code",
      "source": [
        "\n",
        "# Using loop\n",
        "n = 20\n",
        "print(\"Using for loop\")\n",
        "for i in range(1, n*2+1,2):\n",
        "    print(i*i, end = \" \")\n",
        "    if  i == n*2-1:\n",
        "      print(\" \\n\")\n",
        "\n",
        "# list comprehension:\n",
        "odd_squares = [ i*i for i in range(41) if i%2 != 0 and i!=0]\n",
        "print(\"Using list comprehension\")\n",
        "print(odd_squares)"
      ],
      "metadata": {
        "id": "t1xUFJbeqO1x",
        "colab": {
          "base_uri": "https://localhost:8080/"
        },
        "outputId": "e744cd60-2903-4047-b308-4983ae5133b3"
      },
      "execution_count": 20,
      "outputs": [
        {
          "output_type": "stream",
          "name": "stdout",
          "text": [
            "Using for loop\n",
            "1 9 25 49 81 121 169 225 289 361 441 529 625 729 841 961 1089 1225 1369 1521  \n",
            "\n",
            "Using list comprehension\n",
            "[1, 9, 25, 49, 81, 121, 169, 225, 289, 361, 441, 529, 625, 729, 841, 961, 1089, 1225, 1369, 1521]\n"
          ]
        }
      ]
    },
    {
      "cell_type": "markdown",
      "metadata": {
        "id": "H-xOcdp3oIao"
      },
      "source": [
        "#### ( 5 ) Print the following summary statistics from the dictionary of animals in a zoe.\n",
        "##### NOTE: key = specie : value = number of animals in zoe\n",
        "- The number of distict types of animals (specie) (e.g. wild dog, leopard, etc.)\n",
        "- The total number of animals of all types\n",
        "- The average number of animals per type of animal (specie)\n",
        "- The specie(s) with the most members\n",
        "- The specie(s) with the least members\n",
        "\n",
        "##### [1 point]"
      ]
    },
    {
      "cell_type": "code",
      "execution_count": 19,
      "metadata": {
        "id": "XDcy8z8voIao",
        "colab": {
          "base_uri": "https://localhost:8080/"
        },
        "outputId": "424079d6-41c7-4818-91eb-4f05ad976dd2"
      },
      "outputs": [
        {
          "output_type": "stream",
          "name": "stdout",
          "text": [
            "Number of unique species =  14\n",
            "Total number of animals =  130\n",
            "The average number of animals =  9.285714285714286\n",
            "Species with maximum number of animals =  anaconda , Count =  31\n",
            "Species with minimum number of animals =  polar bear , Count =  1\n"
          ]
        }
      ],
      "source": [
        "zoo_animals = {'giraffe':3,\n",
        "              'elephant':8,\n",
        "              'lion':6,\n",
        "              'hippopotamus':2,\n",
        "              'crocodile':6,\n",
        "              'wild dog':10,\n",
        "              'hyena':10,\n",
        "              'zebra':11,\n",
        "              'anaconda':31,\n",
        "              'python':7,\n",
        "              'kangaroo':30,\n",
        "              'cheetah':3,\n",
        "              'leopard':2,\n",
        "               'polar bear': 1}\n",
        "\n",
        "\n",
        "#Each key in a dictionary is unique. so the number of unique species is the number of elements in the dictionary.\n",
        "\n",
        "print(\"Number of unique species = \", len(zoo_animals))\n",
        "\n",
        "sum_animals = sum(zoo_animals.values())\n",
        "print(\"Total number of animals = \", sum_animals)\n",
        "\n",
        "\n",
        "# Average \n",
        "# For this question i wasnt sure what it \"average\" meant. As the keys are unique, the sum of the species and count = 1 , resulting in the same value for case 1.\n",
        "# The first approach does not really make sense but going by the exact words of the question that is what i thought of.\n",
        "\n",
        "# For case 2, i took the total number of() animals by species by total number of animals.\n",
        "average_animals = sum(zoo_animals.values())/len(zoo_animals.items())\n",
        "print(\"The average number of animals = \", average_animals)\n",
        "\n",
        "\n",
        "for i,(k,v) in enumerate(zoo_animals.items()):\n",
        "  if v == max(zoo_animals.values()) :\n",
        "    print(\"Species with maximum number of animals = \",k,\", Count = \",v)\n",
        "  if v == min(zoo_animals.values()):\n",
        "    print(\"Species with minimum number of animals = \",k,\", Count = \",v) \n",
        "\n",
        "# If there are unique counts:\n",
        "#print(\"Species with maximum number of animals = \",max(zoo_animals, key=lambda key: zoo_animals[key]),\", Count = \",max(zoo_animals.values()))\n",
        "#print(\"Species with minimum number of animals = \",min(zoo_animals, key=lambda key: zoo_animals[key]),\", Count = \",min(zoo_animals.values()))\n"
      ]
    },
    {
      "cell_type": "code",
      "source": [
        ""
      ],
      "metadata": {
        "id": "o-z7uS2aihF0"
      },
      "execution_count": 12,
      "outputs": []
    }
  ],
  "metadata": {
    "kernelspec": {
      "display_name": "Python 3",
      "language": "python",
      "name": "python3"
    },
    "language_info": {
      "codemirror_mode": {
        "name": "ipython",
        "version": 3
      },
      "file_extension": ".py",
      "mimetype": "text/x-python",
      "name": "python",
      "nbconvert_exporter": "python",
      "pygments_lexer": "ipython3",
      "version": "3.6.1"
    },
    "colab": {
      "name": "ist652_lab2_kasturi.ipynb",
      "provenance": [],
      "collapsed_sections": []
    }
  },
  "nbformat": 4,
  "nbformat_minor": 0
}