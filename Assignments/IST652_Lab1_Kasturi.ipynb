{
  "cells": [
    {
      "cell_type": "markdown",
      "metadata": {
        "id": "5U4xVqvbyQ5c"
      },
      "source": [
        "# IST 652 Lab #1\n",
        "### Instructions\n",
        "- Complete all 6 questions in this assignment.\n",
        "- You may work with others, <b> but the work you submit must be your own </b>. You can differentiate your work by adding comments or changing the values you use to test your code. However, submitting some else's work as your own is an academic integrity violation and will be raised to academic affairs.\n",
        "- It is always better to attempt a problem as partial credit may be granted.\n",
        "\n",
        "\n",
        "### Submission Guide:\n",
        "- Submit your answers on BlackBoard by Saturday 2019-02-02.\n",
        "- The file must be either a .py or .ipynb file type.\n",
        "- The name of the file should be <i> ist652_lab1_lastname.py (.ipynb) </i> .\n",
        "\n",
        "\n",
        "### Grading [ 6 total points ]\n",
        "For Each Question, the following credit will be awarded:\n",
        "- 0.75 for printing the correct answer to the console.\n",
        "- 0.15 for approaching the problem efficiently.\n",
        "- 0.05 for properly documenting and commenting your code."
      ]
    },
    {
      "cell_type": "markdown",
      "metadata": {
        "id": "4-abOOkiyQ5j"
      },
      "source": [
        "---\n",
        "### Questions"
      ]
    },
    {
      "cell_type": "markdown",
      "metadata": {
        "id": "t7NzEW-eyQ5k"
      },
      "source": [
        "#### ( 1 ) Write the following code and retrun <i>x</i> using the print function. What does it return and why?\n",
        "- x = 11110\n",
        "- x = x+1\n",
        "\n",
        "##### [1 point]"
      ]
    },
    {
      "cell_type": "code",
      "execution_count": null,
      "metadata": {
        "colab": {
          "base_uri": "https://localhost:8080/"
        },
        "id": "LXLRtgupyQ5m",
        "outputId": "6541b2f2-a0e3-40ea-99b0-ec45bf256bde"
      },
      "outputs": [
        {
          "output_type": "stream",
          "name": "stdout",
          "text": [
            "11111\n"
          ]
        }
      ],
      "source": [
        "# Enter your code here, printing relevant answers to console:\n",
        "\n",
        "x = 11110\n",
        "x = x + 1\n",
        "\n",
        "print(x)\n",
        "\n"
      ]
    },
    {
      "cell_type": "markdown",
      "source": [
        "* The above code returns 11111, x is assigned a value 11110 and we are incrementing its value by 1 and printing it out."
      ],
      "metadata": {
        "id": "eSh_Tc8bypAw"
      }
    },
    {
      "cell_type": "markdown",
      "metadata": {
        "id": "bMz-lbnXyQ5o"
      },
      "source": [
        "----\n",
        "#### ( 2 ) Assume that we execute the following assignment statements:\n",
        "- width = 17\n",
        "- height = 12.0\n",
        "\n",
        "#### For each of the following expressions, print the value of the expression and its data type.\n",
        "-  width / 2\n",
        "-  width / 2.0\n",
        "-  height * 2\n",
        "-  height / 2.0\n",
        "-  width / height\n",
        "\n",
        "\n",
        "##### [1 point]"
      ]
    },
    {
      "cell_type": "code",
      "execution_count": null,
      "metadata": {
        "colab": {
          "base_uri": "https://localhost:8080/"
        },
        "id": "Qq_k3fdkyQ5p",
        "outputId": "96df0bb0-242d-4189-a498-f13d3a7e86e7"
      },
      "outputs": [
        {
          "output_type": "stream",
          "name": "stdout",
          "text": [
            "Value of width/2 :  8.5  ,Data Type :  <class 'float'>\n",
            "Value of width/2.0 : 8.5 Data Type :  <class 'float'>\n",
            "Value of height*2: 24.0 Data Type :  <class 'float'>\n",
            "Value of height/2.0: 6.0 Data Type :  <class 'float'>\n",
            "Value of width/height: 1.417 Data Type :  <class 'float'>\n"
          ]
        }
      ],
      "source": [
        "# Enter your code here, printing relevant answers to console:\n",
        "\n",
        "width =17\n",
        "height  = 12.0\n",
        "\n",
        "print(\"Value of width/2 : \", width/2, \" ,Data Type : \",type(width/2))\n",
        "print(\"Value of width/2.0 :\",width/2.0 ,\"Data Type : \",type(width/2.0))\n",
        "print(\"Value of height*2:\", height*2,\"Data Type : \",type(height*2))\n",
        "print(\"Value of height/2.0:\", height/2.0 ,\"Data Type : \",type(height/2.0))\n",
        "print(\"Value of width/height:\", round(width/height, 3) ,\"Data Type : \",type(width/height))\n",
        "\n",
        "\n",
        "\n"
      ]
    },
    {
      "cell_type": "markdown",
      "metadata": {
        "id": "Nvtu4hk2yQ5t"
      },
      "source": [
        "---\n",
        "#### ( 3 ) Write a sequence of statements which <u><i>prompt</i></u> the user for hours and rate per hour, printing each one, and then to computing gross pay as:\n",
        "- ( hours * rate )\n",
        "\n",
        "#### Your output lines should look something like:\n",
        "- Enter Hours: 35\n",
        "- Enter Rate: 2.75\n",
        "- Pay: 96.25\n",
        "\n",
        "\n",
        "##### [1 point]"
      ]
    },
    {
      "cell_type": "code",
      "execution_count": 3,
      "metadata": {
        "colab": {
          "base_uri": "https://localhost:8080/"
        },
        "id": "8qwOqQtJyQ5w",
        "outputId": "2cd00bd6-ed66-4381-8c2c-87427813cf33"
      },
      "outputs": [
        {
          "output_type": "stream",
          "name": "stdout",
          "text": [
            "Enter Hours : 35\n",
            "Enter Rate per hour : 2.75\n",
            "Pay :  96.25\n"
          ]
        }
      ],
      "source": [
        "# Enter your code here, printing relevant answers to console:\n",
        "\n",
        "#typecasting input to convert input from string to float\n",
        "hours = float(input(\"Enter Hours : \"))\n",
        "rate = float(input(\"Enter Rate per hour : \"))\n",
        "print(\"Pay : \", hours*rate)\n",
        "\n",
        "\n",
        "\n",
        "\n"
      ]
    },
    {
      "cell_type": "markdown",
      "metadata": {
        "id": "sK3-FwrUyQ5y"
      },
      "source": [
        " ----"
      ]
    },
    {
      "cell_type": "markdown",
      "metadata": {
        "id": "dEEQKRS6yQ5z"
      },
      "source": [
        "#### ( 4 ) Rewrite your pay computation <i><u>(#3)</u></i> to give the employee 1.5 times the hourly rate for hours worked above 40 hours.\n",
        "#### For example:\n",
        "- Hours: 45\n",
        "- Rate: 10\n",
        "- Pay: 475.0\n",
        "\n",
        "\n",
        "##### [1 point]"
      ]
    },
    {
      "cell_type": "code",
      "execution_count": null,
      "metadata": {
        "colab": {
          "base_uri": "https://localhost:8080/"
        },
        "id": "K-inJjzEyQ50",
        "outputId": "4e4250fc-bf7c-4e6e-b422-ee25989af0e5"
      },
      "outputs": [
        {
          "output_type": "stream",
          "name": "stdout",
          "text": [
            "Hours: 45\n",
            "Rate: 10\n",
            "Pay: 475.0\n"
          ]
        }
      ],
      "source": [
        "# Enter your code here, printing relevant answers to console:\n",
        "\n",
        "#typecasting input to convert input from string to float\n",
        "hours = float(input(\"Hours: \")) \n",
        "rate = float(input(\"Rate: \"))\n",
        "\n",
        "# Conditions for pay calculation\n",
        "if(hours > 40):\n",
        "    overtime_hours = hours - 40\n",
        "    overtime_rate = rate * 1.5\n",
        "    overtime_pay = overtime_hours * overtime_rate\n",
        "    regular_pay = 40 * rate\n",
        "    total_pay = overtime_pay + regular_pay\n",
        "else:\n",
        "    total_pay = hours * rate\n",
        "    \n",
        "print(\"Pay:\",total_pay)\n",
        "\n",
        "\n",
        "\n",
        "\n",
        "\n"
      ]
    },
    {
      "cell_type": "markdown",
      "source": [
        "Explanation: \n",
        "\n",
        "* The code here takes hours and rate as inputs. The control goes into \n",
        "the if block first if the number of hours entered is > 40. In the if block, first the number of extra hours worked(hours - 40) and the extra rate ie., 1.5 times the actual rate , are calculated. Next, the pay for 40 hours worked is calculated. The sum of pay for extra hours and 40 hours is summed to get the final pay.\n",
        "* If the number of hours worked is less 40 then the normal pay is calculated\n"
      ],
      "metadata": {
        "id": "l-QIUFoLMbPp"
      }
    },
    {
      "cell_type": "markdown",
      "metadata": {
        "id": "GzcjaldRyQ53"
      },
      "source": [
        "---\n",
        "\n",
        "#### ( 5 ) Suppose that there is a list of strings defined, called samples. Define the list so that some strings have only 1 or 2 characters and some strings have more.  Write a loop that prints out all the strings whose length is greater than 2. \n",
        "\n",
        "Nake up a list then write your loop to use the list samples, for example:\n",
        "\n",
        "   <i> samples = [‘at’, ‘bat’, ‘c’, . . . .  ]  </i>\n",
        "\n",
        "Submit your list, your code and an example run.\n",
        "\n",
        "\n",
        "##### [1 point]"
      ]
    },
    {
      "cell_type": "markdown",
      "source": [
        ""
      ],
      "metadata": {
        "id": "iGiDlqOwMZXL"
      }
    },
    {
      "cell_type": "code",
      "execution_count": null,
      "metadata": {
        "colab": {
          "base_uri": "https://localhost:8080/"
        },
        "id": "nJTY0IQnyQ55",
        "outputId": "04122bed-15ca-41d3-9d17-0d182fa27d60"
      },
      "outputs": [
        {
          "output_type": "stream",
          "name": "stdout",
          "text": [
            "data\n",
            "scientist\n",
            "the\n",
            "making\n",
            "with\n",
            "passion\n",
            "for\n"
          ]
        }
      ],
      "source": [
        "# Enter your code here, printing relevant answers to console:\n",
        "\n",
        "samples = ['I', 'am', 'a', 'data', 'scientist', 'in', 'the', 'making', 'with', 'passion', 'for', 'ML']\n",
        "\n",
        "#Loop to check for lengths of each list element, printing word only out if length > 2\n",
        "\n",
        "for x in samples:\n",
        "  if len(x) > 2 :\n",
        "    print(x)\n",
        "  else: continue   #optional line\n",
        " \n",
        "\n",
        "\n",
        "\n"
      ]
    },
    {
      "cell_type": "markdown",
      "metadata": {
        "id": "QEQLmxDxyQ56"
      },
      "source": [
        "#### ( 6 ) Again suppose that there is a list of strings defined, called samples.  Define the list so that some strings have only 1 or 2 characters and some strings have <u>more than 5.</u>  Write a loop that prints out all the strings whose length is greater than 2 and whose length is less than 5. \n",
        "\n",
        "Make up a list then write your loop to use the list samples. For example:\n",
        "\n",
        "<i>samples = [‘at’, ‘book’, ‘c’, ‘dog’, ‘elephant’, . . .  ]</i>\n",
        "\n",
        "Submit your list, your code and an example run.\n",
        "\n",
        "\n",
        "##### [1 point]"
      ]
    },
    {
      "cell_type": "code",
      "execution_count": null,
      "metadata": {
        "colab": {
          "base_uri": "https://localhost:8080/"
        },
        "id": "SKqrZDq-yQ58",
        "outputId": "39fb1337-8ad8-4e60-8dc5-e143931a3c1b"
      },
      "outputs": [
        {
          "output_type": "stream",
          "name": "stdout",
          "text": [
            "data\n",
            "the\n",
            "with\n",
            "for\n"
          ]
        }
      ],
      "source": [
        "# Enter your code here, printing relevant answers to console:\n",
        "\n",
        "samples = ['I', 'am', 'a', 'data', 'scientist', 'in', 'the', 'making', 'with', 'passion', 'for', 'ML']\n",
        "\n",
        "#Loop to check for lengths of each list element, printing word only out if length > 2 and <5\n",
        "for x in samples:\n",
        "  if len(x) >2 and len(x)<5:\n",
        "    print(x)\n",
        "  else: continue\n",
        "\n",
        "\n",
        "\n",
        "\n",
        "\n",
        "\n"
      ]
    }
  ],
  "metadata": {
    "kernelspec": {
      "display_name": "Python 3",
      "language": "python",
      "name": "python3"
    },
    "language_info": {
      "codemirror_mode": {
        "name": "ipython",
        "version": 3
      },
      "file_extension": ".py",
      "mimetype": "text/x-python",
      "name": "python",
      "nbconvert_exporter": "python",
      "pygments_lexer": "ipython3",
      "version": "3.7.3"
    },
    "colab": {
      "name": "IST652 - Lab1_Kasturi.ipynb",
      "provenance": [],
      "collapsed_sections": []
    }
  },
  "nbformat": 4,
  "nbformat_minor": 0
}